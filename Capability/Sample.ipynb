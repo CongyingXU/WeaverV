{
 "cells": [
  {
   "cell_type": "code",
   "execution_count": 1,
   "id": "50672ac8",
   "metadata": {},
   "outputs": [
    {
     "name": "stdout",
     "output_type": "stream",
     "text": [
      "Setting root node:  Root\n"
     ]
    }
   ],
   "source": [
    "from CapabilityTesting import Capability"
   ]
  },
  {
   "cell_type": "code",
   "execution_count": 2,
   "id": "3971c3f3",
   "metadata": {},
   "outputs": [
    {
     "name": "stdout",
     "output_type": "stream",
     "text": [
      " * Serving Flask app 'CapabilityTesting.Server'\n",
      " * Debug mode: on\n"
     ]
    },
    {
     "name": "stderr",
     "output_type": "stream",
     "text": [
      "\u001b[31m\u001b[1mWARNING: This is a development server. Do not use it in a production deployment. Use a production WSGI server instead.\u001b[0m\n",
      " * Running on http://127.0.0.1:3003\n",
      "\u001b[33mPress CTRL+C to quit\u001b[0m\n"
     ]
    }
   ],
   "source": [
    "testing = Capability()"
   ]
  },
  {
   "cell_type": "code",
   "execution_count": 3,
   "id": "2c87e449",
   "metadata": {
    "scrolled": false
   },
   "outputs": [
    {
     "name": "stderr",
     "output_type": "stream",
     "text": [
      "127.0.0.1 - - [15/Feb/2023 15:59:11] \"GET /selectTopic/topic=Discrimination HTTP/1.1\" 200 -\n"
     ]
    },
    {
     "name": "stdout",
     "output_type": "stream",
     "text": [
      "Selecting topic:  Discrimination\n",
      "id: 266a3aed-3c80-4ce8-b1fb-e72d048177a5, name: Discrimination, parent_id: None, isOpen: True, isHighlighted: True, tags: ['\\n']\n",
      "Setting root node:  Discrimination\n",
      "id: 89156933-b83d-4769-a88b-e4c4a38601b8, name: Disability, parent_id: 266a3aed-3c80-4ce8-b1fb-e72d048177a5, isOpen: True, isHighlighted: False, tags: ['TypeOf\\n']\n",
      "id: 4c03bcc7-89ae-4f08-a97d-66aca499701b, name: Age, parent_id: 266a3aed-3c80-4ce8-b1fb-e72d048177a5, isOpen: True, isHighlighted: False, tags: ['UsedFor\\n']\n",
      "id: 4703d042-1f15-4015-b859-8a6fd42c7af3, name: Gender, parent_id: 266a3aed-3c80-4ce8-b1fb-e72d048177a5, isOpen: False, isHighlighted: False, tags: ['HasProperty\\n']\n",
      "id: a1bf5749-2873-489d-b1c3-44afc0c83fb1, name: Male, parent_id: 4703d042-1f15-4015-b859-8a6fd42c7af3, isOpen: False, isHighlighted: False, tags: ['InstanceOf\\n']\n",
      "id: 4a5302b9-31a9-49d9-a198-d94c8a416b8a, name: Female, parent_id: 4703d042-1f15-4015-b859-8a6fd42c7af3, isOpen: False, isHighlighted: False, tags: ['PartOf\\n']\n",
      "id: 230906ce-8f31-4cdd-aa12-d4b1e73173b8, name: Harassment, parent_id: 266a3aed-3c80-4ce8-b1fb-e72d048177a5, isOpen: False, isHighlighted: False, tags: ['Causes\\n']\n",
      "id: 22152de8-df86-451c-8f6b-7e1959f080de, name: Abuse, parent_id: 266a3aed-3c80-4ce8-b1fb-e72d048177a5, isOpen: True, isHighlighted: False, tags: ['Causes\\n']\n",
      "id: 230e30bd-1af8-43d2-bd3e-33b3dbbfe31e, name: Physical, parent_id: 22152de8-df86-451c-8f6b-7e1959f080de, isOpen: False, isHighlighted: False, tags: ['InstanceOf\\n']\n",
      "id: 4d86cc13-0b28-4ee9-9a7a-c3f7fdb56a59, name: Mental, parent_id: 22152de8-df86-451c-8f6b-7e1959f080de, isOpen: True, isHighlighted: False, tags: ['InstanceOf\\n']\n",
      "[{'name': 'Discrimination', 'id': '266a3aed-3c80-4ce8-b1fb-e72d048177a5', 'parent_id': None, 'tag': [], 'isOpen': True, 'isHighlighted': True, 'children': [{'name': 'Abuse', 'id': '22152de8-df86-451c-8f6b-7e1959f080de', 'parent_id': '266a3aed-3c80-4ce8-b1fb-e72d048177a5', 'tag': ['Causes'], 'isOpen': True, 'isHighlighted': False, 'children': [{'name': 'Mental', 'id': '4d86cc13-0b28-4ee9-9a7a-c3f7fdb56a59', 'parent_id': '22152de8-df86-451c-8f6b-7e1959f080de', 'tag': ['InstanceOf'], 'isOpen': True, 'isHighlighted': False, 'children': []}, {'name': 'Physical', 'id': '230e30bd-1af8-43d2-bd3e-33b3dbbfe31e', 'parent_id': '22152de8-df86-451c-8f6b-7e1959f080de', 'tag': ['InstanceOf'], 'isOpen': False, 'isHighlighted': False, 'children': []}]}, {'name': 'Age', 'id': '4c03bcc7-89ae-4f08-a97d-66aca499701b', 'parent_id': '266a3aed-3c80-4ce8-b1fb-e72d048177a5', 'tag': ['UsedFor'], 'isOpen': True, 'isHighlighted': False, 'children': []}, {'name': 'Disability', 'id': '89156933-b83d-4769-a88b-e4c4a38601b8', 'parent_id': '266a3aed-3c80-4ce8-b1fb-e72d048177a5', 'tag': ['TypeOf'], 'isOpen': True, 'isHighlighted': False, 'children': []}, {'name': 'Gender', 'id': '4703d042-1f15-4015-b859-8a6fd42c7af3', 'parent_id': '266a3aed-3c80-4ce8-b1fb-e72d048177a5', 'tag': ['HasProperty'], 'isOpen': False, 'isHighlighted': False, 'children': [{'name': 'Female', 'id': '4a5302b9-31a9-49d9-a198-d94c8a416b8a', 'parent_id': '4703d042-1f15-4015-b859-8a6fd42c7af3', 'tag': ['PartOf'], 'isOpen': False, 'isHighlighted': False, 'children': []}, {'name': 'Male', 'id': 'a1bf5749-2873-489d-b1c3-44afc0c83fb1', 'parent_id': '4703d042-1f15-4015-b859-8a6fd42c7af3', 'tag': ['InstanceOf'], 'isOpen': False, 'isHighlighted': False, 'children': []}]}, {'name': 'Harassment', 'id': '230906ce-8f31-4cdd-aa12-d4b1e73173b8', 'parent_id': '266a3aed-3c80-4ce8-b1fb-e72d048177a5', 'tag': ['Causes'], 'isOpen': False, 'isHighlighted': False, 'children': []}]}]\n"
     ]
    }
   ],
   "source": [
    "testing.choose_topic(\"Discrimination\")"
   ]
  },
  {
   "cell_type": "code",
   "execution_count": 5,
   "id": "4d15ae46",
   "metadata": {
    "scrolled": false
   },
   "outputs": [
    {
     "data": {
      "text/html": [
       "<iframe src='./index.html' width='100%' height='400px' />"
      ],
      "text/plain": [
       "<IPython.core.display.HTML object>"
      ]
     },
     "metadata": {},
     "output_type": "display_data"
    },
    {
     "name": "stderr",
     "output_type": "stream",
     "text": [
      "127.0.0.1 - - [15/Feb/2023 16:02:18] \"GET /app HTTP/1.1\" 200 -\n",
      "127.0.0.1 - - [15/Feb/2023 16:02:18] \"\u001b[33mGET /static/css/main.21decec7.css HTTP/1.1\u001b[0m\" 404 -\n",
      "127.0.0.1 - - [15/Feb/2023 16:02:18] \"\u001b[33mGET /static/js/main.29b62e97.js HTTP/1.1\u001b[0m\" 404 -\n"
     ]
    }
   ],
   "source": [
    "testing.display()"
   ]
  },
  {
   "cell_type": "code",
   "execution_count": null,
   "id": "c2f8c69f",
   "metadata": {},
   "outputs": [],
   "source": []
  }
 ],
 "metadata": {
  "kernelspec": {
   "display_name": "Python 3 (ipykernel)",
   "language": "python",
   "name": "python3"
  },
  "language_info": {
   "codemirror_mode": {
    "name": "ipython",
    "version": 3
   },
   "file_extension": ".py",
   "mimetype": "text/x-python",
   "name": "python",
   "nbconvert_exporter": "python",
   "pygments_lexer": "ipython3",
   "version": "3.11.0"
  }
 },
 "nbformat": 4,
 "nbformat_minor": 5
}
