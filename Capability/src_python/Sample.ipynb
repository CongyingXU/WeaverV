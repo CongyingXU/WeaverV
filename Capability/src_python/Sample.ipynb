{
 "cells": [
  {
   "cell_type": "code",
   "execution_count": 32,
   "id": "3e28e96d",
   "metadata": {
    "scrolled": false
   },
   "outputs": [
    {
     "data": {
      "text/html": [
       "\n",
       "<iframe src=\"http://localhost:3000/\" \n",
       "    width=\"100%\" \n",
       "    height=\"400px\"\n",
       "    style=\"border:none; overflow: hidden;\"/>\n"
      ],
      "text/plain": [
       "<IPython.core.display.HTML object>"
      ]
     },
     "metadata": {},
     "output_type": "display_data"
    }
   ],
   "source": [
    "from IPython.display import display, HTML\n",
    "html_code = \"\"\"\n",
    "<iframe src=\"http://localhost:3000/\" \n",
    "    width=\"100%\" \n",
    "    height=\"400px\"\n",
    "    style=\"border:none; overflow: hidden;\"/>\n",
    "\"\"\"\n",
    "display(HTML(html_code))"
   ]
  }
 ],
 "metadata": {
  "kernelspec": {
   "display_name": "Python 3 (ipykernel)",
   "language": "python",
   "name": "python3"
  },
  "language_info": {
   "codemirror_mode": {
    "name": "ipython",
    "version": 3
   },
   "file_extension": ".py",
   "mimetype": "text/x-python",
   "name": "python",
   "nbconvert_exporter": "python",
   "pygments_lexer": "ipython3",
   "version": "3.11.0"
  },
  "vscode": {
   "interpreter": {
    "hash": "4351908c5a18cd684af712025eb40f44b3eb3d21943feab5e259352bdad31355"
   }
  }
 },
 "nbformat": 4,
 "nbformat_minor": 5
}
