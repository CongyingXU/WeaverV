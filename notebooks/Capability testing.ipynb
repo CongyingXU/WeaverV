{
 "cells": [
  {
   "cell_type": "code",
   "execution_count": 1,
   "id": "70713e69",
   "metadata": {},
   "outputs": [],
   "source": [
    "import os\n",
    "import sys\n",
    "module_path = os.path.abspath(os.path.join('..'))\n",
    "if module_path not in sys.path:\n",
    "    sys.path.append(module_path)"
   ]
  },
  {
   "cell_type": "code",
   "execution_count": 2,
   "id": "7db7415f",
   "metadata": {
    "scrolled": true
   },
   "outputs": [],
   "source": [
    "from CapabilityClient.Capability import Capability"
   ]
  },
  {
   "cell_type": "code",
   "execution_count": 3,
   "id": "b347aa15",
   "metadata": {},
   "outputs": [],
   "source": [
    "c = Capability()"
   ]
  },
  {
   "cell_type": "code",
   "execution_count": null,
   "id": "77d16750",
   "metadata": {},
   "outputs": [],
   "source": [
    "c.display()"
   ]
  },
  {
   "cell_type": "code",
   "execution_count": null,
   "id": "6dd08124",
   "metadata": {},
   "outputs": [],
   "source": []
  }
 ],
 "metadata": {
  "kernelspec": {
   "display_name": "Python 3 (ipykernel)",
   "language": "python",
   "name": "python3"
  },
  "language_info": {
   "codemirror_mode": {
    "name": "ipython",
    "version": 3
   },
   "file_extension": ".py",
   "mimetype": "text/x-python",
   "name": "python",
   "nbconvert_exporter": "python",
   "pygments_lexer": "ipython3",
   "version": "3.11.0"
  }
 },
 "nbformat": 4,
 "nbformat_minor": 5
}
