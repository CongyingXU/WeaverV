{
 "cells": [
  {
   "cell_type": "code",
   "execution_count": 1,
   "id": "cc4a0e20-fac4-4fae-8448-46c943891502",
   "metadata": {},
   "outputs": [],
   "source": [
    "import os\n",
    "import sys\n",
    "module_path = os.path.abspath(os.path.join('..'))\n",
    "if module_path not in sys.path:\n",
    "    sys.path.append(module_path)"
   ]
  },
  {
   "cell_type": "code",
   "execution_count": 2,
   "id": "fe0568aa-1f2f-45b1-9be0-8f721e8cfca6",
   "metadata": {},
   "outputs": [],
   "source": [
    "from knowtest.knowledge.prompt import Prompter"
   ]
  },
  {
   "cell_type": "code",
   "execution_count": 3,
   "id": "93d48755-34a2-4717-b8de-a1abfdb4c207",
   "metadata": {},
   "outputs": [],
   "source": [
    "prompter = Prompter(\"config.json\")"
   ]
  },
  {
   "cell_type": "code",
   "execution_count": 4,
   "id": "c294d942-3b1d-4e29-b512-2da4f7954e30",
   "metadata": {},
   "outputs": [
    {
     "data": {
      "text/plain": [
       "['Racism',\n",
       " 'sexism',\n",
       " 'homophobia',\n",
       " 'transphobia',\n",
       " 'anti-Semitism',\n",
       " 'Islamophobia',\n",
       " 'xenophobia',\n",
       " 'ableism',\n",
       " 'ageism',\n",
       " 'fatphobia',\n",
       " 'hate speech',\n",
       " 'religious intolerance',\n",
       " 'discrimination',\n",
       " 'prejudice',\n",
       " 'bigotry',\n",
       " 'harassment',\n",
       " 'verbal abuse',\n",
       " 'insults',\n",
       " 'slurs']"
      ]
     },
     "execution_count": 4,
     "metadata": {},
     "output_type": "execute_result"
    }
   ],
   "source": [
    "prompter.query_topics(\"hate speech\", \"TypesOf\")"
   ]
  },
  {
   "cell_type": "code",
   "execution_count": 5,
   "id": "5291fd34-f9e3-41fb-afdc-21af94f7db5a",
   "metadata": {},
   "outputs": [
    {
     "data": {
      "text/plain": [
       "['racism',\n",
       " 'sexism',\n",
       " 'homophobia',\n",
       " 'xenophobia',\n",
       " 'religious intolerance',\n",
       " 'ableism',\n",
       " 'ageism',\n",
       " 'fatphobia',\n",
       " 'transphobia',\n",
       " 'misogyny']"
      ]
     },
     "execution_count": 5,
     "metadata": {},
     "output_type": "execute_result"
    }
   ],
   "source": [
    "prompter.query_topics(\"hate speech\", \"MannerOf\")"
   ]
  },
  {
   "cell_type": "code",
   "execution_count": 4,
   "id": "e13e9c5b-807e-482a-8c02-540e39d9744f",
   "metadata": {},
   "outputs": [
    {
     "data": {
      "text/plain": [
       "'There is no direct relation between hate speech and old people. However, hate speech can be directed towards any group including old people, and old people can be the target or victims of hate speech. So, in this sense, we can say \"hate speech is DirectedTowards old people\"'"
      ]
     },
     "execution_count": 4,
     "metadata": {},
     "output_type": "execute_result"
    }
   ],
   "source": [
    "prompter.query_relations(\"old people\", \"hate speech\")"
   ]
  },
  {
   "cell_type": "code",
   "execution_count": 23,
   "id": "54743c01-66da-4455-96b4-01263b060485",
   "metadata": {},
   "outputs": [],
   "source": [
    "prompt = '''\n",
    "What is the relation between old people and hate speech?\n",
    "Create new relations or select from the following relations: \"TypesOf, PartOf, HasA, HasProperty, UsedFor, AtLocation, Causes, MotivatedBy, ObstructedBy, MannerOf, LocatedNear, HasAgent, HasPatient, AspectOf, RelatedTo\".\n",
    "Rank these relations by likelihood.\n",
    "'''\n"
   ]
  },
  {
   "cell_type": "code",
   "execution_count": null,
   "id": "0d249959-0f82-4d99-bfab-84b9ed076b4a",
   "metadata": {},
   "outputs": [],
   "source": [
    "prompter.model(prompt)"
   ]
  },
  {
   "cell_type": "code",
   "execution_count": null,
   "id": "6d6d21f7-41a5-4dca-a6c5-e5895aae124c",
   "metadata": {},
   "outputs": [],
   "source": []
  }
 ],
 "metadata": {
  "kernelspec": {
   "display_name": "Python 3 (ipykernel)",
   "language": "python",
   "name": "python3"
  },
  "language_info": {
   "codemirror_mode": {
    "name": "ipython",
    "version": 3
   },
   "file_extension": ".py",
   "mimetype": "text/x-python",
   "name": "python",
   "nbconvert_exporter": "python",
   "pygments_lexer": "ipython3",
   "version": "3.7.13"
  }
 },
 "nbformat": 4,
 "nbformat_minor": 5
}
