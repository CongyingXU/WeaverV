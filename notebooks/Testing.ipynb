{
 "cells": [
  {
   "cell_type": "code",
   "execution_count": 1,
   "id": "a08ba631",
   "metadata": {},
   "outputs": [],
   "source": [
    "import os\n",
    "import sys\n",
    "module_path = os.path.abspath(os.path.join('..'))\n",
    "if module_path not in sys.path:\n",
    "    sys.path.append(module_path)"
   ]
  },
  {
   "cell_type": "code",
   "execution_count": 2,
   "id": "39877d53",
   "metadata": {},
   "outputs": [],
   "source": [
    "from knowtest.server.Server import CapabilityApp"
   ]
  },
  {
   "cell_type": "code",
   "execution_count": 3,
   "id": "7315e5e0",
   "metadata": {},
   "outputs": [
    {
     "name": "stdout",
     "output_type": "stream",
     "text": [
      "../output/hate_speech\n",
      "Path:  ../output OS Path:  /Users/rishabhrustogi/Desktop/knowtest/notebooks\n",
      "Initializing wordnet\n",
      "Cache directory: /Users/rishabhrustogi/Desktop/knowtest/query_cache/hate_speech\n",
      "stateSaveDirectory: ../output/savedStates/\n",
      "maxStates: 100\n",
      "Setting root node:  Hate speech\n"
     ]
    }
   ],
   "source": [
    "c = CapabilityApp(\"hate speech\")"
   ]
  },
  {
   "cell_type": "code",
   "execution_count": 4,
   "id": "57c122ca",
   "metadata": {},
   "outputs": [
    {
     "name": "stdout",
     "output_type": "stream",
     "text": [
      "Starting server on port:  3001\n"
     ]
    }
   ],
   "source": [
    "c.initializeServer()"
   ]
  },
  {
   "cell_type": "code",
   "execution_count": 5,
   "id": "bc563e06",
   "metadata": {},
   "outputs": [
    {
     "name": "stdout",
     "output_type": "stream",
     "text": [
      "../output/Samsung_S23\n",
      "Path:  ../output OS Path:  /Users/rishabhrustogi/Desktop/knowtest/notebooks\n",
      "Initializing wordnet\n",
      "Cache directory: /Users/rishabhrustogi/Desktop/knowtest/query_cache/Samsung_S23\n",
      "stateSaveDirectory: ../output/savedStates/\n",
      "maxStates: 100\n",
      "Setting root node:  Samsung S23\n",
      "Suggested examples:  ['\"I love how user-friendly this platform is! It\\'s so easy-to-use.\"', '\"This platform is so easy-to-use! I\\'m able to find what I\\'m looking for quickly and without hassle.\"', '\"This platform is great for beginners because it\\'s so easy-to-use.\"', '\"I\\'m so impressed with how easy-to-use this platform is! I\\'m able to navigate it with ease.\"', '\"This platform is great for anyone because it\\'s so easy-to-use. Even if you\\'re not tech-savvy, you can easily figure it out!\"']\n",
      "Suggested examples:  ['Intuitive design makes it easier to use products and services.', 'Intuitive interfaces are essential for a great user experience.', 'Intuitive solutions often require less effort and time to understand.', 'Intuitive design helps to simplify complex processes.', 'Intuitive tools can help to drive productivity and efficiency.']\n",
      "Suggested examples:  ['Training is a great way to enhance your skills and stay up to date with the latest industry trends.', \"I'm so glad I had the opportunity to attend the training session last week, it was really insightful!\", 'Training is essential for any organization to stay competitive and ensure their employees are equipped with the right skills.', 'Taking part in regular training sessions is a great way to stay motivated and inspired.', 'Training can be a great investment if you want to develop your career and stay ahead of the game.']\n",
      "Suggested examples:  [\"Ease-of-use is one of the most important factors when it comes to online platforms. It's essential to have a user-friendly interface that makes it easy to navigate and quickly find what you're looking for.\", 'Having an easy-to-use platform also helps to reduce user frustration and makes it more likely that they will return to the site.', 'Having clear instructions and helpful tutorials can also help to make the platform more user-friendly.', 'Offering a variety of options to customize the platform to fit individual needs can also help to make it more user-friendly.', 'Overall, ease-of-use is an important factor for any online platform and should be taken into consideration when designing and developing the platform.']\n",
      "Suggested examples:  ['Memory is such an important part of our lives - it shapes who we are and how we interact with the world.', 'Memory is a powerful tool - it can be used to recall past experiences and to help us make decisions in the present.', \"It's amazing how our memories can be triggered by certain smells, sights, and sounds.\", 'Our memories are unique to us and often provide us with a sense of comfort and security.', \"Memory is a fascinating concept - it's amazing how our brains can store and recall so much information!\"]\n",
      "Suggested examples:  ['Kim Hyung-suk is an amazing singer! His voice is so powerful and soulful.', \"I just heard Kim Hyung-suk's new single and it's already one of my favorites!\", 'Kim Hyung-suk is a master of ballads. His music always touches my heart.', \"I'm so proud of Kim Hyung-suk for all his achievements in the music industry!\", \"Kim Hyung-suk is an inspiration to many aspiring singers out there. He's truly an amazing artist.\"]\n",
      "Suggested examples:  ['Great job on the update! It looks really good.', \" I'm excited to see what new features the update brings!\", \" Thanks for the update - it's much needed!\", \" Can't wait to try out the new update!\", ' The update looks really promising - looking forward to seeing what it can do!']\n"
     ]
    }
   ],
   "source": [
    "c.change_topic(\"Samsung S23\")"
   ]
  },
  {
   "cell_type": "code",
   "execution_count": null,
   "id": "aa731acd",
   "metadata": {},
   "outputs": [],
   "source": []
  }
 ],
 "metadata": {
  "kernelspec": {
   "display_name": "Python 3 (ipykernel)",
   "language": "python",
   "name": "python3"
  },
  "language_info": {
   "codemirror_mode": {
    "name": "ipython",
    "version": 3
   },
   "file_extension": ".py",
   "mimetype": "text/x-python",
   "name": "python",
   "nbconvert_exporter": "python",
   "pygments_lexer": "ipython3",
   "version": "3.11.0"
  }
 },
 "nbformat": 4,
 "nbformat_minor": 5
}
