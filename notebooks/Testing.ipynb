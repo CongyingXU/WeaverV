{
 "cells": [
  {
   "cell_type": "code",
   "execution_count": 1,
   "id": "a08ba631",
   "metadata": {},
   "outputs": [],
   "source": [
    "import os\n",
    "import sys\n",
    "module_path = os.path.abspath(os.path.join('..'))\n",
    "if module_path not in sys.path:\n",
    "    sys.path.append(module_path)"
   ]
  },
  {
   "cell_type": "code",
   "execution_count": 2,
   "id": "39877d53",
   "metadata": {},
   "outputs": [],
   "source": [
    "from knowtest.server.Server import CapabilityApp"
   ]
  },
  {
   "cell_type": "code",
   "execution_count": 3,
   "id": "7315e5e0",
   "metadata": {},
   "outputs": [
    {
     "name": "stdout",
     "output_type": "stream",
     "text": [
      "../output/hate_speech\n",
      "Path:  ../output OS Path:  /Users/rishabhrustogi/Desktop/knowtest/notebooks\n",
      "Initializing wordnet\n",
      "Cache directory: /Users/rishabhrustogi/Desktop/knowtest/query_cache/hate_speech\n",
      "stateSaveDirectory: ../output/savedStates/\n",
      "maxStates: 100\n",
      "1. removing state_2023-03-18_15-17-26-589551.json\n",
      "Setting root node:  Hate speech\n"
     ]
    }
   ],
   "source": [
    "c = CapabilityApp(\"hate speech\")"
   ]
  },
  {
   "cell_type": "code",
   "execution_count": 4,
   "id": "57c122ca",
   "metadata": {},
   "outputs": [
    {
     "name": "stdout",
     "output_type": "stream",
     "text": [
      "Starting server on port:  3001\n"
     ]
    }
   ],
   "source": [
    "c.initializeServer()"
   ]
  },
  {
   "cell_type": "code",
   "execution_count": 5,
   "id": "bc563e06",
   "metadata": {},
   "outputs": [
    {
     "name": "stdout",
     "output_type": "stream",
     "text": [
      "../output/Samsung_S23\n",
      "Path:  ../output OS Path:  /Users/rishabhrustogi/Desktop/knowtest/notebooks\n",
      "Initializing wordnet\n",
      "Cache directory: /Users/rishabhrustogi/Desktop/knowtest/query_cache/Samsung_S23\n",
      "stateSaveDirectory: ../output/savedStates/\n",
      "maxStates: 100\n",
      "Setting root node:  Samsung S23\n",
      "Updating example:  6d6a4e6c-0e2d-4070-831a-691b083935f7 cfdc6713-5f8e-4bc1-827b-c730a3b483b1 \"This online platform is so easy-to-use! It makes it so much easier to get the job done quickly and efficiently.\" True False False\n",
      "Updated example:  {'id': 'cfdc6713-5f8e-4bc1-827b-c730a3b483b1', 'exampleText': '\"This online platform is so easy-to-use! It makes it so much easier to get the job done quickly and efficiently.\"', 'exampleTrue': 'True', 'examplePredicted': 'True', 'exampleOffTopic': False, 'isSuggested': False}\n",
      "making copy of ../output/Samsung_S23.json to ../output/savedStates/state_2023-03-18_15-19-14-390071.json\n",
      "self.stack: ['state_2023-03-18_15-19-14-390071.json']\n",
      "Setting example:  \"This online platform is so easy-to-use! It makes it so much easier to get the job done quickly and efficiently.\"  to  False\n",
      "Updating example:  6d6a4e6c-0e2d-4070-831a-691b083935f7 cfdc6713-5f8e-4bc1-827b-c730a3b483b1 \"This online platform is so easy-to-use! It makes it so much easier to get the job done quickly and efficiently.\" True True False\n",
      "Updated example:  {'id': 'cfdc6713-5f8e-4bc1-827b-c730a3b483b1', 'exampleText': '\"This online platform is so easy-to-use! It makes it so much easier to get the job done quickly and efficiently.\"', 'exampleTrue': 'True', 'examplePredicted': 'True', 'exampleOffTopic': False, 'isSuggested': True}\n",
      "making copy of ../output/Samsung_S23.json to ../output/savedStates/state_2023-03-18_15-19-16-633838.json\n",
      "self.stack: ['state_2023-03-18_15-19-14-390071.json', 'state_2023-03-18_15-19-16-633838.json']\n",
      "Setting example:  \"This online platform is so easy-to-use! It makes it so much easier to get the job done quickly and efficiently.\"  to  True\n",
      "Updating example:  6d6a4e6c-0e2d-4070-831a-691b083935f7 cfdc6713-5f8e-4bc1-827b-c730a3b483b1 \"This online platform is so easy-to-use! It makes it so much easier to get the job done quickly and efficiently.\" True False False\n",
      "Updated example:  {'id': 'cfdc6713-5f8e-4bc1-827b-c730a3b483b1', 'exampleText': '\"This online platform is so easy-to-use! It makes it so much easier to get the job done quickly and efficiently.\"', 'exampleTrue': 'True', 'examplePredicted': 'True', 'exampleOffTopic': False, 'isSuggested': False}\n",
      "making copy of ../output/Samsung_S23.json to ../output/savedStates/state_2023-03-18_15-19-18-618814.json\n",
      "self.stack: ['state_2023-03-18_15-19-14-390071.json', 'state_2023-03-18_15-19-16-633838.json', 'state_2023-03-18_15-19-18-618814.json']\n",
      "Setting example:  \"This online platform is so easy-to-use! It makes it so much easier to get the job done quickly and efficiently.\"  to  False\n",
      "Updating example:  6d6a4e6c-0e2d-4070-831a-691b083935f7 7edadb10-458c-4e35-8b82-628b8bc16fe9 \"The user-friendly design of this platform makes it easy-to-use. I'm glad I found it!\" True False False\n",
      "Updated example:  {'id': '7edadb10-458c-4e35-8b82-628b8bc16fe9', 'exampleText': '\"The user-friendly design of this platform makes it easy-to-use. I\\'m glad I found it!\"', 'exampleTrue': 'True', 'examplePredicted': 'True', 'exampleOffTopic': False, 'isSuggested': False}\n",
      "making copy of ../output/Samsung_S23.json to ../output/savedStates/state_2023-03-18_15-19-20-368318.json\n",
      "self.stack: ['state_2023-03-18_15-19-14-390071.json', 'state_2023-03-18_15-19-16-633838.json', 'state_2023-03-18_15-19-18-618814.json', 'state_2023-03-18_15-19-20-368318.json']\n",
      "Setting example:  \"The user-friendly design of this platform makes it easy-to-use. I'm glad I found it!\"  to  False\n",
      "Updating example:  6d6a4e6c-0e2d-4070-831a-691b083935f7 4c9c8ba6-b475-44f2-b789-81559df24563 \"I love how easy-to-use this online platform is. It's definitely one of the best!\" True False False\n",
      "Updated example:  {'id': '4c9c8ba6-b475-44f2-b789-81559df24563', 'exampleText': '\"I love how easy-to-use this online platform is. It\\'s definitely one of the best!\"', 'exampleTrue': 'True', 'examplePredicted': 'True', 'exampleOffTopic': False, 'isSuggested': False}\n",
      "making copy of ../output/Samsung_S23.json to ../output/savedStates/state_2023-03-18_15-19-21-480246.json\n",
      "self.stack: ['state_2023-03-18_15-19-14-390071.json', 'state_2023-03-18_15-19-16-633838.json', 'state_2023-03-18_15-19-18-618814.json', 'state_2023-03-18_15-19-20-368318.json', 'state_2023-03-18_15-19-21-480246.json']\n",
      "Setting example:  \"I love how easy-to-use this online platform is. It's definitely one of the best!\"  to  False\n",
      "Updating example:  6d6a4e6c-0e2d-4070-831a-691b083935f7 de2b4845-4f60-4b71-84c8-a46c7d270c45 \"This platform is so easy-to-use that even a beginner can figure it out quickly.\" True False False\n",
      "Updated example:  {'id': 'de2b4845-4f60-4b71-84c8-a46c7d270c45', 'exampleText': '\"This platform is so easy-to-use that even a beginner can figure it out quickly.\"', 'exampleTrue': 'True', 'examplePredicted': 'True', 'exampleOffTopic': False, 'isSuggested': False}\n",
      "making copy of ../output/Samsung_S23.json to ../output/savedStates/state_2023-03-18_15-19-22-439311.json\n",
      "self.stack: ['state_2023-03-18_15-19-14-390071.json', 'state_2023-03-18_15-19-16-633838.json', 'state_2023-03-18_15-19-18-618814.json', 'state_2023-03-18_15-19-20-368318.json', 'state_2023-03-18_15-19-21-480246.json', 'state_2023-03-18_15-19-22-439311.json']\n",
      "Setting example:  \"This platform is so easy-to-use that even a beginner can figure it out quickly.\"  to  False\n",
      "Updating example:  6d6a4e6c-0e2d-4070-831a-691b083935f7 d4197347-33fd-41e0-898b-dea6757953a6 \"The easy-to-use design of this online platform has made my work so much easier!\" True False False\n",
      "Updated example:  {'id': 'd4197347-33fd-41e0-898b-dea6757953a6', 'exampleText': '\"The easy-to-use design of this online platform has made my work so much easier!\"', 'exampleTrue': 'True', 'examplePredicted': 'True', 'exampleOffTopic': False, 'isSuggested': False}\n",
      "making copy of ../output/Samsung_S23.json to ../output/savedStates/state_2023-03-18_15-19-23-305390.json\n",
      "self.stack: ['state_2023-03-18_15-19-14-390071.json', 'state_2023-03-18_15-19-16-633838.json', 'state_2023-03-18_15-19-18-618814.json', 'state_2023-03-18_15-19-20-368318.json', 'state_2023-03-18_15-19-21-480246.json', 'state_2023-03-18_15-19-22-439311.json', 'state_2023-03-18_15-19-23-305390.json']\n",
      "Setting example:  \"The easy-to-use design of this online platform has made my work so much easier!\"  to  False\n"
     ]
    }
   ],
   "source": [
    "c.change_topic(\"Samsung S23\")"
   ]
  },
  {
   "cell_type": "code",
   "execution_count": null,
   "id": "aa731acd",
   "metadata": {},
   "outputs": [],
   "source": []
  }
 ],
 "metadata": {
  "kernelspec": {
   "display_name": "Python 3 (ipykernel)",
   "language": "python",
   "name": "python3"
  },
  "language_info": {
   "codemirror_mode": {
    "name": "ipython",
    "version": 3
   },
   "file_extension": ".py",
   "mimetype": "text/x-python",
   "name": "python",
   "nbconvert_exporter": "python",
   "pygments_lexer": "ipython3",
   "version": "3.11.0"
  }
 },
 "nbformat": 4,
 "nbformat_minor": 5
}
