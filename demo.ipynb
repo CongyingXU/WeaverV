{
 "cells": [
  {
   "cell_type": "code",
   "execution_count": null,
   "id": "a08ba631",
   "metadata": {},
   "outputs": [],
   "source": [
    "import os\n",
    "import sys\n",
    "module_path = os.path.abspath(os.path.join('..'))\n",
    "if module_path not in sys.path:\n",
    "    sys.path.append(module_path)"
   ]
  },
  {
   "cell_type": "code",
   "execution_count": null,
   "id": "039761aa-2595-4471-b36d-21d8ba4b9b93",
   "metadata": {},
   "outputs": [],
   "source": [
    "from knowtest.specs.manager import SpecManager\n",
    "model_spec = {\n",
    "    \"email_assistant\": {\n",
    "        \"model\": \"gpt-3.5-turbo\",\n",
    "        \"type\": \"generation\",\n",
    "        \"prompt\": [\n",
    "            {\n",
    "                \"role\": \"user\",\n",
    "                \"content\": \"You are an email assistant. Help reply to this email: {example}\\n\"\n",
    "            }\n",
    "        ]\n",
    "    },\n",
    "    \"monologue_summarizer\": {\n",
    "        \"model\": \"gpt-3.5-turbo\",\n",
    "        \"type\": \"generation\",\n",
    "        \"prompt\": [\n",
    "            {\n",
    "                \"role\": \"user\",\n",
    "                \"content\": \"Summarize the monologue to key steps for future use: {example}\\n\"\n",
    "            }\n",
    "        ]\n",
    "    }\n",
    "}\n",
    "SpecManager.add_model_specs(model_spec, overwrite=True)"
   ]
  },
  {
   "cell_type": "code",
   "execution_count": null,
   "id": "78fa62ca-a049-4f10-aa8d-ba4b96a03349",
   "metadata": {},
   "outputs": [],
   "source": [
    "generator_specs = {\n",
    "    \"zero_shot_email\": \"You are a senior researcher. Write one email on '{topic}' to a student:\\n\",\n",
    "    \"zero_shot_monologue\": '''Write a think-aloud monologue of a person searching for an item in a library. The monologue should contain more than 10 sentences. The person should face some challenges when searching.\n",
    "Scenario: {topic}\n",
    "Format: [time] sentence\n",
    "Example: [00:00] Where is the book?'''\n",
    "}\n",
    "    \n",
    "SpecManager.add_generator_specs(generator_specs, overwrite=True)"
   ]
  },
  {
   "cell_type": "code",
   "execution_count": null,
   "id": "d4fba01c-fc09-464a-9583-35c5b091dee3",
   "metadata": {},
   "outputs": [],
   "source": [
    "from knowtest.server.Capability import Capability"
   ]
  },
  {
   "cell_type": "code",
   "execution_count": null,
   "id": "e7076414-af2e-4935-a4b9-136c7dc11b9b",
   "metadata": {},
   "outputs": [],
   "source": [
    "c = Capability(topic=\"searching for an item in a library\", model_spec=\"monologue_summarizer\", uid=\"test\", generator_specs={\"zero_shot_data_gen\": \"zero_shot_monologue\"}, serverHost='172.24.20.95')"
   ]
  },
  {
   "cell_type": "code",
   "execution_count": null,
   "id": "f719a288-dca5-42f1-96c0-9807ca9d0e7c",
   "metadata": {},
   "outputs": [],
   "source": [
    "c.display()"
   ]
  },
  {
   "cell_type": "code",
   "execution_count": null,
   "id": "bc563e06",
   "metadata": {},
   "outputs": [],
   "source": [
    "c.change_topic(\"summarize a think-aloud monologue\")"
   ]
  }
 ],
 "metadata": {
  "kernelspec": {
   "display_name": "Python 3 (ipykernel)",
   "language": "python",
   "name": "python3"
  },
  "language_info": {
   "codemirror_mode": {
    "name": "ipython",
    "version": 3
   },
   "file_extension": ".py",
   "mimetype": "text/x-python",
   "name": "python",
   "nbconvert_exporter": "python",
   "pygments_lexer": "ipython3",
   "version": "3.8.11"
  }
 },
 "nbformat": 4,
 "nbformat_minor": 5
}
