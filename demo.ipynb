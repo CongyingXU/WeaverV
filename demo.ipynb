{
 "cells": [
  {
   "cell_type": "code",
   "execution_count": null,
   "id": "4c2d2f90-39e3-4431-a468-30ae07e2e788",
   "metadata": {},
   "outputs": [],
   "source": [
    "#### download nltk packages\n",
    "import nltk\n",
    "nltk.download('punkt')\n",
    "nltk.download('wordnet')\n",
    "nltk.download('omw-1.4')"
   ]
  },
  {
   "cell_type": "code",
   "execution_count": null,
   "id": "60d75643-41a0-4e2a-9515-8af8063624be",
   "metadata": {},
   "outputs": [],
   "source": [
    "#### set up openai API key\n",
    "%env OPENAI_API_KEY=PUT_YOUR_KEY_HERE"
   ]
  },
  {
   "cell_type": "code",
   "execution_count": null,
   "id": "039761aa-2595-4471-b36d-21d8ba4b9b93",
   "metadata": {},
   "outputs": [],
   "source": [
    "#### add model to be tested\n",
    "from knowtest.specs.manager import SpecManager\n",
    "model_spec = {\n",
    "    \"email_assistant\": {\n",
    "        \"model\": \"gpt-3.5-turbo\",\n",
    "        \"type\": \"generation\",\n",
    "        \"prompt\": [\n",
    "            {\n",
    "                \"role\": \"user\",\n",
    "                \"content\": \"You are an email assistant. Help reply to this email: {example}\\n\"\n",
    "            }\n",
    "        ]\n",
    "    },\n",
    "    \"monologue_summarizer\": {\n",
    "        \"model\": \"gpt-3.5-turbo\",\n",
    "        \"type\": \"generation\",\n",
    "        \"prompt\": [\n",
    "            {\n",
    "                \"role\": \"user\",\n",
    "                \"content\": \"Summarize the monologue to key steps for future use: {example}\\n\"\n",
    "            }\n",
    "        ]\n",
    "    }\n",
    "}\n",
    "SpecManager.add_model_specs(model_spec, overwrite=True)"
   ]
  },
  {
   "cell_type": "code",
   "execution_count": null,
   "id": "78fa62ca-a049-4f10-aa8d-ba4b96a03349",
   "metadata": {},
   "outputs": [],
   "source": [
    "#### add test case generator\n",
    "generator_specs = {\n",
    "    \"zero_shot_email\": \"You are a senior researcher. Write one email on '{topic}' to a student:\\n\",\n",
    "    \"few_shot_email\": ''''You are a senior researcher. Write one email on '{topic}' to a student:\n",
    "\n",
    "Examples:\n",
    "{examples}\n",
    "\n",
    "Your email:\n",
    "''',\n",
    "    \n",
    "    \"zero_shot_monologue\": '''Write a think-aloud monologue of a person searching for an item in a library. The monologue should contain more than 10 sentences. The person should face some challenges when searching.\n",
    "Scenario: {topic}\n",
    "Format: [time] sentence\n",
    "Example: [00:00] Where is the book?''',\n",
    "    \"few_shot_monologue\": '''Write a think-aloud monologue of a person searching for an item in a library. The monologue should contain more than 10 sentences. The person should face some challenges when searching.\n",
    "Scenario: {topic}\n",
    "\n",
    "Examples:\n",
    "{examples}\n",
    "\n",
    "Your monologue:'''\n",
    "}\n",
    "    \n",
    "SpecManager.add_generator_specs(generator_specs, overwrite=True)"
   ]
  },
  {
   "cell_type": "code",
   "execution_count": null,
   "id": "d4fba01c-fc09-464a-9583-35c5b091dee3",
   "metadata": {},
   "outputs": [],
   "source": [
    "from knowtest.server.Capability import Capability"
   ]
  },
  {
   "cell_type": "code",
   "execution_count": null,
   "id": "e7076414-af2e-4935-a4b9-136c7dc11b9b",
   "metadata": {},
   "outputs": [],
   "source": [
    "# start the server\n",
    "c = Capability(topic=\"researcher emails\", \n",
    "               model_spec=\"email_assistant\", \n",
    "               uid=\"test\", \n",
    "               generator_specs={\n",
    "                   \"zero_shot_data_gen\": \"zero_shot_email\",\n",
    "                   \"few_shot_data_gen\": \"few_shot_email\"\n",
    "               }, \n",
    "               serverHost='localhost')"
   ]
  },
  {
   "cell_type": "code",
   "execution_count": null,
   "id": "f719a288-dca5-42f1-96c0-9807ca9d0e7c",
   "metadata": {},
   "outputs": [],
   "source": [
    "c.display()"
   ]
  },
  {
   "cell_type": "code",
   "execution_count": null,
   "id": "bc563e06",
   "metadata": {},
   "outputs": [],
   "source": [
    "# change seed topic\n",
    "# update models and generators optionally\n",
    "c.change_topic(topic=\"book finding\", \n",
    "               model_spec=\"monologue_summarizer\",\n",
    "               generator_specs={\n",
    "                   \"zero_shot_data_gen\": \"zero_shot_monologue\",\n",
    "                   \"few_shot_data_gen\": \"few_shot_monologue\"\n",
    "               })"
   ]
  },
  {
   "cell_type": "code",
   "execution_count": null,
   "id": "5994716e-9a3a-49d1-9d6f-395538e06d25",
   "metadata": {},
   "outputs": [],
   "source": [
    "c.display()"
   ]
  },
  {
   "cell_type": "code",
   "execution_count": null,
   "id": "cb89fecb-6670-4b30-975a-e4b2fd63b3e2",
   "metadata": {},
   "outputs": [],
   "source": []
  }
 ],
 "metadata": {
  "kernelspec": {
   "display_name": "Python 3 (ipykernel)",
   "language": "python",
   "name": "python3"
  },
  "language_info": {
   "codemirror_mode": {
    "name": "ipython",
    "version": 3
   },
   "file_extension": ".py",
   "mimetype": "text/x-python",
   "name": "python",
   "nbconvert_exporter": "python",
   "pygments_lexer": "ipython3",
   "version": "3.8.11"
  }
 },
 "nbformat": 4,
 "nbformat_minor": 5
}
