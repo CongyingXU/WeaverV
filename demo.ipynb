{
 "cells": [
  {
   "cell_type": "markdown",
   "id": "83515a17-a753-470a-8fbb-016b7e284b50",
   "metadata": {},
   "source": [
    "# Environment Setup"
   ]
  },
  {
   "cell_type": "code",
   "execution_count": null,
   "id": "4c2d2f90-39e3-4431-a468-30ae07e2e788",
   "metadata": {},
   "outputs": [],
   "source": [
    "#### download nltk packages\n",
    "import nltk\n",
    "nltk.download('punkt')\n",
    "nltk.download('wordnet')\n",
    "nltk.download('omw-1.4')"
   ]
  },
  {
   "cell_type": "code",
   "execution_count": null,
   "id": "60d75643-41a0-4e2a-9515-8af8063624be",
   "metadata": {},
   "outputs": [],
   "source": [
    "#### set up openai API key\n",
    "%env OPENAI_API_KEY=PUT_YOUR_KEY_HERE"
   ]
  },
  {
   "cell_type": "markdown",
   "id": "712f0699-6f7a-4f4c-bfd4-9a05586852a0",
   "metadata": {},
   "source": [
    "# Tutorial"
   ]
  },
  {
   "cell_type": "markdown",
   "id": "2c8e96f2-8f09-4fd3-8134-05ed95930c21",
   "metadata": {},
   "source": [
    "### 1. Specify Models to Test"
   ]
  },
  {
   "cell_type": "markdown",
   "id": "5226ee36-9976-4c8e-b7f2-d184c2729163",
   "metadata": {},
   "source": [
    "First, you can add models to be tested and also how you want to generate test data. Currently, we support OpenAI models only. \n",
    "\n",
    "If you want to extract Weaver's concepts without doing testing, you can skip this step."
   ]
  },
  {
   "cell_type": "code",
   "execution_count": null,
   "id": "039761aa-2595-4471-b36d-21d8ba4b9b93",
   "metadata": {},
   "outputs": [],
   "source": [
    "#### add model to be tested\n",
    "from knowtest.specs.manager import SpecManager\n",
    "model_spec = {\n",
    "    \"email_assistant\": {\n",
    "        \"model\": \"gpt-3.5-turbo\",\n",
    "        \"type\": \"generation\",\n",
    "        \"prompt\": [\n",
    "            {\n",
    "                \"role\": \"user\",\n",
    "                \"content\": \"You are an email assistant. Help reply to this email: {example}\\n\"\n",
    "            }\n",
    "        ]\n",
    "    },\n",
    "    \"monologue_summarizer\": {\n",
    "        \"model\": \"gpt-3.5-turbo\",\n",
    "        \"type\": \"generation\",\n",
    "        \"prompt\": [\n",
    "            {\n",
    "                \"role\": \"user\",\n",
    "                \"content\": \"Summarize the monologue to key steps for future use: {example}\\n\"\n",
    "            }\n",
    "        ]\n",
    "    }\n",
    "}\n",
    "SpecManager.add_model_specs(model_spec, overwrite=True)"
   ]
  },
  {
   "cell_type": "code",
   "execution_count": null,
   "id": "78fa62ca-a049-4f10-aa8d-ba4b96a03349",
   "metadata": {},
   "outputs": [],
   "source": [
    "#### add test case generator\n",
    "generator_specs = {\n",
    "    \"zero_shot_email\": \"You are a senior researcher. Write one email on '{topic}' to a student:\\n\",\n",
    "    \"few_shot_email\": ''''You are a senior researcher. Write one email on '{topic}' to a student:\n",
    "\n",
    "Examples:\n",
    "{examples}\n",
    "\n",
    "Your email:\n",
    "''',\n",
    "    \n",
    "    \"zero_shot_monologue\": '''Write a think-aloud monologue of a person searching for an item in a library. The monologue should contain more than 10 sentences. The person should face some challenges when searching.\n",
    "Scenario: {topic}\n",
    "Format: [time] sentence\n",
    "Example: [00:00] Where is the book?''',\n",
    "    \"few_shot_monologue\": '''Write a think-aloud monologue of a person searching for an item in a library. The monologue should contain more than 10 sentences. The person should face some challenges when searching.\n",
    "Scenario: {topic}\n",
    "\n",
    "Examples:\n",
    "{examples}\n",
    "\n",
    "Your monologue:'''\n",
    "}\n",
    "    \n",
    "SpecManager.add_generator_specs(generator_specs, overwrite=True)"
   ]
  },
  {
   "cell_type": "markdown",
   "id": "8369b439-603d-4494-a964-fbab5c25ba39",
   "metadata": {},
   "source": [
    "### 2. Specify Weaver Relations"
   ]
  },
  {
   "cell_type": "markdown",
   "id": "a52db1c6-6657-4331-af04-d28edf40413c",
   "metadata": {},
   "source": [
    "By default, we use ConceptNet relations, but you can optionally select a subset of them or use your own relations."
   ]
  },
  {
   "cell_type": "code",
   "execution_count": null,
   "id": "2ebcfade-9538-4016-8c20-5b1e5dc24244",
   "metadata": {},
   "outputs": [],
   "source": [
    "#### [optional] use only custom relations\n",
    "from knowtest.specs.manager import SpecManager\n",
    "rel_specs = [\n",
    "    \"TYPEOF\",\n",
    "    'PARTOF',\n",
    "    'OBSTRUCTEDBY',\n",
    "    'LOCATEDNEAR',\n",
    "    'CAUSEDBY',\n",
    "    'RELATEDTO',\n",
    "    {\n",
    "        \"id\": \"HASCHALLENGE\",\n",
    "        \"tag\": \"has challenges\",\n",
    "        \"description\": {\n",
    "            \"text\": \"is a challenge of\",\n",
    "            \"position\": \"second\"\n",
    "        },\n",
    "        \"prompt\": \"List {N} challenges of {topic}.\"\n",
    "    },\n",
    "]\n",
    "SpecManager.specify_custom_relation_specs(rel_specs, overwrite=True)"
   ]
  },
  {
   "cell_type": "markdown",
   "id": "46cf2359-37ae-43cb-852e-fa86da2df6d9",
   "metadata": {},
   "source": [
    "### 3. Start Backend Server"
   ]
  },
  {
   "cell_type": "code",
   "execution_count": null,
   "id": "d4fba01c-fc09-464a-9583-35c5b091dee3",
   "metadata": {},
   "outputs": [],
   "source": [
    "from knowtest.server.Capability import Capability"
   ]
  },
  {
   "cell_type": "markdown",
   "id": "e45c48f2-40f0-44c1-aa04-8e732004ceac",
   "metadata": {},
   "source": [
    "##### Option 1: start the server with models to test"
   ]
  },
  {
   "cell_type": "code",
   "execution_count": null,
   "id": "e7076414-af2e-4935-a4b9-136c7dc11b9b",
   "metadata": {},
   "outputs": [],
   "source": [
    "# start the server with models to test\n",
    "c = Capability(topic=\"researcher emails\", \n",
    "               model_spec=\"email_assistant\", \n",
    "               uid=\"test\", \n",
    "               generator_specs={\n",
    "                   \"zero_shot_data_gen\": \"zero_shot_email\",\n",
    "                   \"few_shot_data_gen\": \"few_shot_email\"\n",
    "               }, \n",
    "               serverHost='localhost')"
   ]
  },
  {
   "cell_type": "markdown",
   "id": "fa59416d-671a-4775-90eb-4b9d11f5365c",
   "metadata": {},
   "source": [
    "##### Option 2: start the server without models to test (Weaver concept only)"
   ]
  },
  {
   "cell_type": "code",
   "execution_count": null,
   "id": "7a777275-6427-4fd6-bef0-d092d3b18ff7",
   "metadata": {},
   "outputs": [],
   "source": [
    "# OR, start the server without models to test\n",
    "c = Capability(topic=\"researcher emails\", \n",
    "               model_spec=\"dummy\", \n",
    "               uid=\"test\", \n",
    "               serverHost='localhost')"
   ]
  },
  {
   "cell_type": "markdown",
   "id": "f540ffcc-0e5e-4472-af39-40423a5fe95f",
   "metadata": {},
   "source": [
    "### 4. Play with Frontend UI"
   ]
  },
  {
   "cell_type": "code",
   "execution_count": null,
   "id": "f719a288-dca5-42f1-96c0-9807ca9d0e7c",
   "metadata": {},
   "outputs": [],
   "source": [
    "c.display()"
   ]
  },
  {
   "cell_type": "markdown",
   "id": "2e6ffa8f-1957-4574-b52c-25da92ea5195",
   "metadata": {},
   "source": [
    "### 5. Switch to different seed topics, models, or test_gen"
   ]
  },
  {
   "cell_type": "code",
   "execution_count": null,
   "id": "bc563e06",
   "metadata": {},
   "outputs": [],
   "source": [
    "# change seed topic\n",
    "# update models and generators optionally\n",
    "c.change_topic(topic=\"book finding\", \n",
    "               model_spec=\"monologue_summarizer\",\n",
    "               generator_specs={\n",
    "                   \"zero_shot_data_gen\": \"zero_shot_monologue\",\n",
    "                   \"few_shot_data_gen\": \"few_shot_monologue\"\n",
    "               })"
   ]
  },
  {
   "cell_type": "code",
   "execution_count": null,
   "id": "5994716e-9a3a-49d1-9d6f-395538e06d25",
   "metadata": {},
   "outputs": [],
   "source": [
    "c.display()"
   ]
  },
  {
   "cell_type": "code",
   "execution_count": null,
   "id": "cb89fecb-6670-4b30-975a-e4b2fd63b3e2",
   "metadata": {},
   "outputs": [],
   "source": []
  }
 ],
 "metadata": {
  "kernelspec": {
   "display_name": "Python 3 (ipykernel)",
   "language": "python",
   "name": "python3"
  },
  "language_info": {
   "codemirror_mode": {
    "name": "ipython",
    "version": 3
   },
   "file_extension": ".py",
   "mimetype": "text/x-python",
   "name": "python",
   "nbconvert_exporter": "python",
   "pygments_lexer": "ipython3",
   "version": "3.7.13"
  }
 },
 "nbformat": 4,
 "nbformat_minor": 5
}
